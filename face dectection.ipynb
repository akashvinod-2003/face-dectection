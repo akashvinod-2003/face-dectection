{
 "cells": [
  {
   "cell_type": "code",
   "execution_count": 5,
   "metadata": {},
   "outputs": [],
   "source": [
    "import cv2"
   ]
  },
  {
   "cell_type": "code",
   "execution_count": 8,
   "metadata": {},
   "outputs": [],
   "source": [
    "\n",
    "\n",
    "# Initialize camera\n",
    "vidcap = cv2.VideoCapture(0)\n",
    "camera_on = True  # Camera state\n",
    "face_cascade = cv2.CascadeClassifier(cv2.data.haarcascades + 'haarcascade_frontalface_default.xml')\n",
    "\n",
    "while True:\n",
    "    if camera_on:\n",
    "        ret, video = vidcap.read()\n",
    "        if not ret:\n",
    "            print(\"Failed to grab frame\")\n",
    "            break\n",
    "\n",
    "        # Convert to grayscale and detect faces\n",
    "        gray = cv2.cvtColor(video, cv2.COLOR_BGR2GRAY)\n",
    "        faces = face_cascade.detectMultiScale(gray, scaleFactor=1.1, minNeighbors=5, minSize=(30, 30))\n",
    "\n",
    "        # Draw rectangles around detected faces\n",
    "        for (x, y, w, h) in faces:\n",
    "            cv2.rectangle(video, (x, y), (x + w, y + h), (0, 255, 0), 2)\n",
    "\n",
    "        cv2.imshow(\"Live Video\", video)  # Show video feed\n",
    "\n",
    "    key = cv2.waitKey(1) & 0xFF  \n",
    "\n",
    "    if key == ord(\"a\"):  # Toggle camera on/off\n",
    "        camera_on = not camera_on\n",
    "        if camera_on:\n",
    "            vidcap = cv2.VideoCapture(0)  # Reinitialize camera\n",
    "        else:\n",
    "            vidcap.release()  # Stop camera feed (but keep window open)\n",
    "\n",
    "    elif key == ord(\"q\"):  # Quit\n",
    "        break\n",
    "\n",
    "vidcap.release()\n",
    "cv2.destroyAllWindows()\n"
   ]
  },
  {
   "cell_type": "code",
   "execution_count": null,
   "metadata": {},
   "outputs": [],
   "source": []
  }
 ],
 "metadata": {
  "kernelspec": {
   "display_name": "Python 3",
   "language": "python",
   "name": "python3"
  },
  "language_info": {
   "codemirror_mode": {
    "name": "ipython",
    "version": 3
   },
   "file_extension": ".py",
   "mimetype": "text/x-python",
   "name": "python",
   "nbconvert_exporter": "python",
   "pygments_lexer": "ipython3",
   "version": "3.12.9"
  }
 },
 "nbformat": 4,
 "nbformat_minor": 2
}
